{
 "cells": [
  {
   "cell_type": "markdown",
   "id": "dc7bb9a2-2a20-4e6e-a8c9-5c595b761777",
   "metadata": {},
   "source": [
    "# Predict"
   ]
  },
  {
   "cell_type": "code",
   "execution_count": 1,
   "id": "26f4937e-4ee1-4049-9ea6-5e8debe8d490",
   "metadata": {},
   "outputs": [],
   "source": [
    "import torch \n",
    "import torchvision\n",
    "from torchvision import transforms\n",
    "\n",
    "import numpy as np \n",
    "import pandas as pd \n",
    "import PIL\n",
    "import os\n",
    "import copy\n",
    "import csv "
   ]
  },
  {
   "cell_type": "code",
   "execution_count": 2,
   "id": "38d5c59e-a0c8-471e-860a-622f4f5cb03b",
   "metadata": {},
   "outputs": [],
   "source": [
    "\"\"\"\n",
    "ImageTransform class is called for all images for image transformation. \n",
    "Used for data augmentation, input image resizing, and converting images data into tensor floats. \n",
    "Note that data augmentation is only used in training data. Not validation and testing data.\n",
    "\"\"\"\n",
    "class ImageTransform():\n",
    "    \n",
    "    def __init__(self, size):\n",
    "        self.interpolation_mode = transforms.InterpolationMode.BILINEAR\n",
    "        self.data_transform = {\n",
    "            'test': transforms.Compose([\n",
    "                transforms.Resize(size, interpolation=self.interpolation_mode),\n",
    "                transforms.ToTensor(),\n",
    "                transforms.Normalize((0.485, 0.456, 0.406), (0.229, 0.224, 0.225))\n",
    "            ])\n",
    "        }\n",
    "        \n",
    "    def __call__(self, img, phase='test'):\n",
    "        return self.data_transform[phase](img)"
   ]
  },
  {
   "cell_type": "markdown",
   "id": "61ef7405-103e-46b2-925b-56b109bf673e",
   "metadata": {},
   "source": [
    "## Load"
   ]
  },
  {
   "cell_type": "code",
   "execution_count": 3,
   "id": "4e67b394-29cd-48e1-9214-88f99bb8cf1c",
   "metadata": {},
   "outputs": [],
   "source": [
    "model = torch.load('saved_model/netv3_sr_xsuper')\n",
    "for i in range(len(model)):\n",
    "    model[i] = model[i].eval()"
   ]
  },
  {
   "cell_type": "code",
   "execution_count": 4,
   "id": "c9209904-17cd-4d95-874a-ec167b0007fa",
   "metadata": {},
   "outputs": [],
   "source": [
    "transform_func = ImageTransform((32, 32))"
   ]
  },
  {
   "cell_type": "code",
   "execution_count": 5,
   "id": "dd1e1ac9-e83d-4899-aeeb-9885d6cde6dc",
   "metadata": {},
   "outputs": [
    {
     "data": {
      "text/plain": [
       "device(type='cuda', index=0)"
      ]
     },
     "execution_count": 5,
     "metadata": {},
     "output_type": "execute_result"
    }
   ],
   "source": [
    "device = torch.device(\"cuda:0\" if torch.cuda.is_available() else \"cpu\")\n",
    "device"
   ]
  },
  {
   "cell_type": "markdown",
   "id": "d101f620-fb8d-46af-9c40-c1eea37b1600",
   "metadata": {},
   "source": [
    "## Predict"
   ]
  },
  {
   "cell_type": "code",
   "execution_count": 6,
   "id": "38d4ed06-4edd-4cc8-9ee9-5eeffe2a118d",
   "metadata": {},
   "outputs": [],
   "source": [
    "import glob\n",
    "import os"
   ]
  },
  {
   "cell_type": "code",
   "execution_count": 7,
   "id": "fbe67dbb-3477-449c-9ced-1a2835f10c07",
   "metadata": {},
   "outputs": [],
   "source": [
    "base_dir = None\n",
    "train_dir = 'sr_test_shuffle'\n",
    "test_list = glob.glob(os.path.join(train_dir, '*.jpg'))"
   ]
  },
  {
   "cell_type": "code",
   "execution_count": 8,
   "id": "3e011ffe-1de3-448e-b98f-4efd2b59ffff",
   "metadata": {},
   "outputs": [],
   "source": [
    "def predict(model, device, img_path, transform_func):\n",
    "    \n",
    "    outputs = []\n",
    "    img = PIL.Image.open(img_path)\n",
    "    img_transformed = transform_func(img)\n",
    "    img_transformed = img_transformed.unsqueeze(0)\n",
    "    img_transformed = img_transformed.to(device)\n",
    "    \n",
    "    for i in range(len(model)):\n",
    "        output = model[i](img_transformed)\n",
    "        probas = torch.nn.functional.softmax(output, dim=1)\n",
    "        outputs.append(torch.Tensor.cpu(probas).detach().numpy())\n",
    "        \n",
    "    outputs = np.array(outputs)\n",
    "    avg_outputs = np.mean(outputs, axis=0)\n",
    "    preds = np.argmax(avg_outputs)\n",
    "\n",
    "    return int(preds)"
   ]
  },
  {
   "cell_type": "code",
   "execution_count": 9,
   "id": "ee35a735-07ab-48a4-b649-bd34a1439fe4",
   "metadata": {},
   "outputs": [],
   "source": [
    "mapping = {0: 'bird', 1: 'dog', 2: 'reptile'}\n",
    "preds = {}\n",
    "for img in test_list:\n",
    "    img_id = int(img.split('/')[-1].split('.')[0])\n",
    "    result = predict(model, device, img, transform_func)\n",
    "    preds[img_id] = mapping[result]"
   ]
  },
  {
   "cell_type": "code",
   "execution_count": 10,
   "id": "94b6086e-1be8-4355-b6f4-0b8b637a2001",
   "metadata": {},
   "outputs": [],
   "source": [
    "from collections import OrderedDict\n",
    "preds = dict(OrderedDict(sorted(preds.items())))\n",
    "output_list = []\n",
    "\n",
    "for key in preds:\n",
    "    output_list.append([preds[key]])"
   ]
  },
  {
   "cell_type": "code",
   "execution_count": 11,
   "id": "d2286777-9c35-4437-8d36-3a27966480ae",
   "metadata": {},
   "outputs": [],
   "source": [
    "import csv\n",
    "\n",
    "with open('super_predictions.csv', 'w') as file:\n",
    "    writer = csv.writer(file)\n",
    "    writer.writerow(['predictions'])\n",
    "    writer.writerows(output_list)"
   ]
  },
  {
   "cell_type": "code",
   "execution_count": null,
   "id": "6e7ddf58-fa7b-484a-a8cf-8f2da2714d05",
   "metadata": {},
   "outputs": [],
   "source": []
  }
 ],
 "metadata": {
  "environment": {
   "kernel": "conda-root-py",
   "name": "pytorch-gpu.1-10.m90",
   "type": "gcloud",
   "uri": "gcr.io/deeplearning-platform-release/pytorch-gpu.1-10:m90"
  },
  "kernelspec": {
   "display_name": "Python [conda env:root] *",
   "language": "python",
   "name": "conda-root-py"
  },
  "language_info": {
   "codemirror_mode": {
    "name": "ipython",
    "version": 3
   },
   "file_extension": ".py",
   "mimetype": "text/x-python",
   "name": "python",
   "nbconvert_exporter": "python",
   "pygments_lexer": "ipython3",
   "version": "3.7.12"
  }
 },
 "nbformat": 4,
 "nbformat_minor": 5
}
