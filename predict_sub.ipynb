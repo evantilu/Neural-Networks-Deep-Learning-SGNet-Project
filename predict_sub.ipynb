{
 "cells": [
  {
   "cell_type": "markdown",
   "id": "dc7bb9a2-2a20-4e6e-a8c9-5c595b761777",
   "metadata": {},
   "source": [
    "# Predict"
   ]
  },
  {
   "cell_type": "code",
   "execution_count": 1,
   "id": "26f4937e-4ee1-4049-9ea6-5e8debe8d490",
   "metadata": {},
   "outputs": [],
   "source": [
    "import torch \n",
    "import torchvision\n",
    "from torchvision import transforms\n",
    "\n",
    "import numpy as np \n",
    "import pandas as pd \n",
    "import PIL\n",
    "import os\n",
    "import copy\n",
    "import csv "
   ]
  },
  {
   "cell_type": "code",
   "execution_count": 2,
   "id": "fed7b99b-7a59-4551-9810-69d087ee8abf",
   "metadata": {},
   "outputs": [],
   "source": [
    "class SGNet(torch.nn.Module):\n",
    "\n",
    "    def __init__(self, supernet):\n",
    "        super(SGNet, self).__init__()\n",
    "\n",
    "        ########\n",
    "        # Convolutional layers\n",
    "        ########\n",
    "        self.cnn_block = supernet[:21]\n",
    "    \n",
    "        ########\n",
    "        # Fully-connected MLP\n",
    "        # If only use MLP, flatten the image to (1, 8x8x3), 8x8x3 is 8x8 image resolution with each pixel 3-color channel RGB\n",
    "        # 8x8x3 = 192\n",
    "        ########\n",
    "        self.scb = supernet[21:30]\n",
    "        \n",
    "        self.fcb = torch.nn.Sequential(\n",
    "            torch.nn.Linear(1024, 2048),\n",
    "            torch.nn.BatchNorm1d(2048),\n",
    "            torch.nn.ReLU(inplace=True),\n",
    "    \n",
    "            torch.nn.Linear(2048, 4096),\n",
    "            torch.nn.BatchNorm1d(4096),\n",
    "            torch.nn.ReLU(inplace=True),\n",
    "    \n",
    "            torch.nn.Linear(4096, 8192),\n",
    "            torch.nn.BatchNorm1d(8192),\n",
    "            torch.nn.ReLU(inplace=True),\n",
    "            \n",
    "            torch.nn.Linear(8192, 8192),\n",
    "            torch.nn.BatchNorm1d(8192),\n",
    "            torch.nn.ReLU(inplace=True)\n",
    "        )\n",
    "    \n",
    "        # Output layer\n",
    "        self.output = torch.nn.Sequential(\n",
    "            torch.nn.Linear(16384, 90)\n",
    "        )\n",
    "\n",
    "    def forward(self, inputs):\n",
    "        inputs = self.cnn_block(inputs)\n",
    "        scb = self.scb(inputs)\n",
    "        fcb = self.fcb(inputs)\n",
    "        output = self.output(torch.cat((scb, fcb), dim=1))\n",
    "        return output"
   ]
  },
  {
   "cell_type": "code",
   "execution_count": 3,
   "id": "38d5c59e-a0c8-471e-860a-622f4f5cb03b",
   "metadata": {},
   "outputs": [],
   "source": [
    "\"\"\"\n",
    "ImageTransform class is called for all images for image transformation. \n",
    "Used for data augmentation, input image resizing, and converting images data into tensor floats. \n",
    "Note that data augmentation is only used in training data. Not validation and testing data.\n",
    "\"\"\"\n",
    "class ImageTransform():\n",
    "    \n",
    "    def __init__(self, size):\n",
    "        self.interpolation_mode = transforms.InterpolationMode.BILINEAR\n",
    "        self.data_transform = {\n",
    "            'test': transforms.Compose([\n",
    "                transforms.Resize(size, interpolation=self.interpolation_mode),\n",
    "                transforms.ToTensor(),\n",
    "                transforms.Normalize((0.485, 0.456, 0.406), (0.229, 0.224, 0.225))\n",
    "            ])\n",
    "        }\n",
    "        \n",
    "    def __call__(self, img, phase='test'):\n",
    "        return self.data_transform[phase](img)"
   ]
  },
  {
   "cell_type": "markdown",
   "id": "61ef7405-103e-46b2-925b-56b109bf673e",
   "metadata": {},
   "source": [
    "## Load"
   ]
  },
  {
   "cell_type": "code",
   "execution_count": 4,
   "id": "4e67b394-29cd-48e1-9214-88f99bb8cf1c",
   "metadata": {},
   "outputs": [],
   "source": [
    "sgnetv2_sr = torch.load('saved_model/sgnetv2_sub')\n",
    "for i in range(len(sgnetv2_sr)):\n",
    "    sgnetv2_sr[i] = sgnetv2_sr[i].eval()"
   ]
  },
  {
   "cell_type": "code",
   "execution_count": 5,
   "id": "c9209904-17cd-4d95-874a-ec167b0007fa",
   "metadata": {},
   "outputs": [],
   "source": [
    "transform_func = ImageTransform((8, 8))"
   ]
  },
  {
   "cell_type": "code",
   "execution_count": 6,
   "id": "dd1e1ac9-e83d-4899-aeeb-9885d6cde6dc",
   "metadata": {},
   "outputs": [
    {
     "data": {
      "text/plain": [
       "device(type='cuda', index=0)"
      ]
     },
     "execution_count": 6,
     "metadata": {},
     "output_type": "execute_result"
    }
   ],
   "source": [
    "device = torch.device(\"cuda:0\" if torch.cuda.is_available() else \"cpu\")\n",
    "device"
   ]
  },
  {
   "cell_type": "markdown",
   "id": "d101f620-fb8d-46af-9c40-c1eea37b1600",
   "metadata": {},
   "source": [
    "## Predict"
   ]
  },
  {
   "cell_type": "code",
   "execution_count": 7,
   "id": "38d4ed06-4edd-4cc8-9ee9-5eeffe2a118d",
   "metadata": {},
   "outputs": [],
   "source": [
    "import glob\n",
    "import os"
   ]
  },
  {
   "cell_type": "code",
   "execution_count": 8,
   "id": "fbe67dbb-3477-449c-9ced-1a2835f10c07",
   "metadata": {},
   "outputs": [],
   "source": [
    "base_dir = None\n",
    "train_dir = 'test_shuffle'\n",
    "test_list = glob.glob(os.path.join(train_dir, '*.jpg'))"
   ]
  },
  {
   "cell_type": "code",
   "execution_count": 9,
   "id": "3e011ffe-1de3-448e-b98f-4efd2b59ffff",
   "metadata": {},
   "outputs": [],
   "source": [
    "\"\"\"\n",
    "predict function\n",
    "returns prediction for a single image\n",
    "if max(probas) > threshold, return the predicted class, else return 89 (novel class)\n",
    "\"\"\"\n",
    "def predict(model, device, img_path, transform_func, thresh):\n",
    "    outputs = []\n",
    "    \n",
    "    for i in range(len(model)):\n",
    "        img = PIL.Image.open(img_path)\n",
    "        img_transformed = transform_func(img)\n",
    "        img_transformed = img_transformed.unsqueeze(0)\n",
    "        img_transformed = img_transformed.to(device)\n",
    "        output = model[i](img_transformed)\n",
    "        probas = torch.nn.functional.softmax(output, dim=1)\n",
    "        outputs.append(torch.Tensor.cpu(probas).detach().numpy())\n",
    "        \n",
    "    outputs = np.array(outputs)\n",
    "    avg_outputs = np.mean(outputs, axis=0)\n",
    "    \n",
    "    # find the max probability among probas\n",
    "    preds = np.argmax(avg_outputs)\n",
    "    max_ = np.max(avg_outputs)\n",
    "    \n",
    "    if max_ > thresh:\n",
    "        # return prediction\n",
    "        return int(preds)\n",
    "    else:\n",
    "        # return novel class (89)\n",
    "        return 89"
   ]
  },
  {
   "cell_type": "code",
   "execution_count": 10,
   "id": "c2389b13-709f-4dac-92cc-2519f034d7bd",
   "metadata": {},
   "outputs": [],
   "source": [
    "map_dict = {}\n",
    "    \n",
    "with open('sub_classes_mapping.csv') as csv_file:\n",
    "    csv_reader = csv.reader(csv_file, delimiter=',')\n",
    "    next(csv_reader) # Skip the header\n",
    "    for row in csv_reader:\n",
    "        map_dict[int(row[0])] = row[1]"
   ]
  },
  {
   "cell_type": "code",
   "execution_count": 11,
   "id": "ee35a735-07ab-48a4-b649-bd34a1439fe4",
   "metadata": {},
   "outputs": [],
   "source": [
    "preds = {}\n",
    "for img in test_list:\n",
    "    img_id = int(img.split('/')[-1].split('.')[0])\n",
    "    \n",
    "    result = predict(sgnetv2_sr, device, img, transform_func, 0.7)\n",
    "    preds[img_id] = map_dict[result]"
   ]
  },
  {
   "cell_type": "code",
   "execution_count": 12,
   "id": "94b6086e-1be8-4355-b6f4-0b8b637a2001",
   "metadata": {},
   "outputs": [],
   "source": [
    "from collections import OrderedDict\n",
    "preds = dict(OrderedDict(sorted(preds.items())))\n",
    "output_list = []\n",
    "\n",
    "for key in preds:\n",
    "    output_list.append([preds[key]])"
   ]
  },
  {
   "cell_type": "code",
   "execution_count": 13,
   "id": "d2286777-9c35-4437-8d36-3a27966480ae",
   "metadata": {},
   "outputs": [],
   "source": [
    "with open('sub_predictions_th070.csv', 'w') as file:\n",
    "    writer = csv.writer(file)\n",
    "    writer.writerow(['predictions'])\n",
    "    writer.writerows(output_list)"
   ]
  },
  {
   "cell_type": "code",
   "execution_count": null,
   "id": "6e7ddf58-fa7b-484a-a8cf-8f2da2714d05",
   "metadata": {},
   "outputs": [],
   "source": []
  }
 ],
 "metadata": {
  "environment": {
   "kernel": "conda-root-py",
   "name": "pytorch-gpu.1-10.m90",
   "type": "gcloud",
   "uri": "gcr.io/deeplearning-platform-release/pytorch-gpu.1-10:m90"
  },
  "kernelspec": {
   "display_name": "Python [conda env:root] *",
   "language": "python",
   "name": "conda-root-py"
  },
  "language_info": {
   "codemirror_mode": {
    "name": "ipython",
    "version": 3
   },
   "file_extension": ".py",
   "mimetype": "text/x-python",
   "name": "python",
   "nbconvert_exporter": "python",
   "pygments_lexer": "ipython3",
   "version": "3.7.12"
  }
 },
 "nbformat": 4,
 "nbformat_minor": 5
}
